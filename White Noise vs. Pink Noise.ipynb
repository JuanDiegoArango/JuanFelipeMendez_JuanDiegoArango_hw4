{
 "metadata": {
  "name": "",
  "signature": "sha256:717da9ebc16dcece747f15d998b6079585b7417b74c485a23131e3f6f4b9ac5c"
 },
 "nbformat": 3,
 "nbformat_minor": 0,
 "worksheets": [
  {
   "cells": [
    {
     "cell_type": "code",
     "collapsed": false,
     "input": [
      "%pylab inline\n",
      "from scipy import fftpack\n",
      "from scipy.fftpack import fft, fftfreq\n",
      "from scipy.io import wavfile"
     ],
     "language": "python",
     "metadata": {},
     "outputs": [
      {
       "output_type": "stream",
       "stream": "stdout",
       "text": [
        "Populating the interactive namespace from numpy and matplotlib\n"
       ]
      },
      {
       "output_type": "stream",
       "stream": "stderr",
       "text": [
        "WARNING: pylab import has clobbered these variables: ['fftpack', 'fft']\n",
        "`%matplotlib` prevents importing * from pylab and numpy\n"
       ]
      }
     ],
     "prompt_number": 332
    },
    {
     "cell_type": "heading",
     "level": 5,
     "metadata": {},
     "source": [
      "Inicialmente de abre el archivo de audio, se hace su tranformada y se obtiene sus frecuencias "
     ]
    },
    {
     "cell_type": "code",
     "collapsed": false,
     "input": [
      "fs, sig = wavfile.read('voice.wav')\n",
      "a=(fft(sig)/len(sig))\n",
      "b=fftfreq(len(a),1)\n",
      "frecuencia=fftshift(b)\n",
      "fourier_sig=fftshift(a)\n",
      "mitad=ceil(len(a)/2)"
     ],
     "language": "python",
     "metadata": {},
     "outputs": [],
     "prompt_number": 333
    },
    {
     "cell_type": "heading",
     "level": 5,
     "metadata": {},
     "source": [
      "Se normaliza la tranformada de la se\u00f1al de audio, esto hace que su espectro de potencias sea plano, firma de la ruido blanco"
     ]
    },
    {
     "cell_type": "code",
     "collapsed": false,
     "input": [
      "ruido_blanco=fourier_sig/abs(fourier_sig)\n",
      "voz_blanca=10*ifft(ruido_blanco)\n",
      "wavfile.write('voz_blanca.wav', 44100, real(voz_blanca))"
     ],
     "language": "python",
     "metadata": {},
     "outputs": [],
     "prompt_number": 334
    },
    {
     "cell_type": "heading",
     "level": 5,
     "metadata": {},
     "source": [
      "Espectro de potencias"
     ]
    },
    {
     "cell_type": "code",
     "collapsed": false,
     "input": [
      "plot(frecuencia[mitad:],log10(abs(2.0*ruido_blanco[mitad:])**2))\n"
     ],
     "language": "python",
     "metadata": {},
     "outputs": [
      {
       "metadata": {},
       "output_type": "pyout",
       "prompt_number": 335,
       "text": [
        "[<matplotlib.lines.Line2D at 0x1c6736290>]"
       ]
      },
      {
       "metadata": {},
       "output_type": "display_data",
       "png": "[encoded data removed]",
       "text": [
        "<matplotlib.figure.Figure at 0x1c209a310>"
       ]
      }
     ],
     "prompt_number": 335
    },
    {
     "cell_type": "heading",
     "level": 5,
     "metadata": {},
     "source": [
      "Se\u00f1al original en azul y la nueva en verde, el ruido blanco se agrada para que se pueda hacer la comparacion."
     ]
    },
    {
     "cell_type": "code",
     "collapsed": false,
     "input": [
      "plot(sig)\n",
      "plot((10**9)*voz_blanca)\n"
     ],
     "language": "python",
     "metadata": {},
     "outputs": [
      {
       "metadata": {},
       "output_type": "pyout",
       "prompt_number": 351,
       "text": [
        "[<matplotlib.lines.Line2D at 0x1efd06390>]"
       ]
      },
      {
       "metadata": {},
       "output_type": "display_data",
       "png": "[encoded data removed]",
       "text": [
        "<matplotlib.figure.Figure at 0x1ed26fb10>"
       ]
      }
     ],
     "prompt_number": 351
    },
    {
     "cell_type": "heading",
     "level": 5,
     "metadata": {},
     "source": [
      "Se normaliza la tranformada de la se\u00f1al de audio, y se multiplica por el factor (1.0000001**(abs(100*amax(frecuencia)/frecuencia))), este hace que al hacerse el espectro de potencias, este quede con dependecia de las frecuencias firma del ruido rosa"
     ]
    },
    {
     "cell_type": "code",
     "collapsed": false,
     "input": [
      "ruido_rosa=ruido_blanco*(1.0000001**(abs(1000*amax(frecuencia)/frecuencia)))\n",
      "ruido_rosa[88200]=0\n",
      "voz_rosa=1000*ifft(ruido_rosa)\n",
      "wavfile.write('voz_rosa.wav', 44100, real(voz_rosa))\n"
     ],
     "language": "python",
     "metadata": {},
     "outputs": [],
     "prompt_number": 337
    },
    {
     "cell_type": "heading",
     "level": 5,
     "metadata": {},
     "source": [
      "Espectro de potencias que decae con frecuencia"
     ]
    },
    {
     "cell_type": "code",
     "collapsed": false,
     "input": [
      "plot(frecuencia[mitad:],log10(abs(2.0*ruido_rosa[mitad:])**2))\n",
      "xlim(0,0.001)"
     ],
     "language": "python",
     "metadata": {},
     "outputs": [
      {
       "metadata": {},
       "output_type": "pyout",
       "prompt_number": 338,
       "text": [
        "(0, 0.001)"
       ]
      },
      {
       "metadata": {},
       "output_type": "display_data",
       "png": "[encoded data removed]",
       "text": [
        "<matplotlib.figure.Figure at 0x1b8ee5c50>"
       ]
      }
     ],
     "prompt_number": 338
    },
    {
     "cell_type": "heading",
     "level": 5,
     "metadata": {},
     "source": [
      "La comparacion entre las se\u00f1ales, el ruido rosa se agrada para que se pueda hacer la comparacion."
     ]
    },
    {
     "cell_type": "code",
     "collapsed": false,
     "input": [
      "plot(sig)\n",
      "plot(1000000*voz_rosa)\n"
     ],
     "language": "python",
     "metadata": {},
     "outputs": [
      {
       "metadata": {},
       "output_type": "pyout",
       "prompt_number": 343,
       "text": [
        "[<matplotlib.lines.Line2D at 0x1e2148e50>]"
       ]
      },
      {
       "metadata": {},
       "output_type": "display_data",
       "png": "[encoded data removed]",
       "text": [
        "<matplotlib.figure.Figure at 0x1c5948790>"
       ]
      }
     ],
     "prompt_number": 343
    },
    {
     "cell_type": "code",
     "collapsed": false,
     "input": [],
     "language": "python",
     "metadata": {},
     "outputs": [],
     "prompt_number": 339
    },
    {
     "cell_type": "code",
     "collapsed": false,
     "input": [],
     "language": "python",
     "metadata": {},
     "outputs": [],
     "prompt_number": 339
    },
    {
     "cell_type": "code",
     "collapsed": false,
     "input": [],
     "language": "python",
     "metadata": {},
     "outputs": [],
     "prompt_number": 339
    }
   ],
   "metadata": {}
  }
 ]
}