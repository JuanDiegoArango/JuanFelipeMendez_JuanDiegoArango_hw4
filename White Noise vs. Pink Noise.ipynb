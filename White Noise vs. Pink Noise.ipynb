{
 "metadata": {
  "name": "",
  "signature": "sha256:aebe560fcb14e5b962cc825d5b0dfa5afe3dc891521da15d9400db5ce9321829"
 },
 "nbformat": 3,
 "nbformat_minor": 0,
 "worksheets": [
  {
   "cells": [
    {
     "cell_type": "code",
     "collapsed": false,
     "input": [
      "%pylab inline\n",
      "from scipy import fftpack\n",
      "from scipy.fftpack import fft, fftfreq\n",
      "from scipy.io import wavfile"
     ],
     "language": "python",
     "metadata": {},
     "outputs": [
      {
       "output_type": "stream",
       "stream": "stdout",
       "text": [
        "Populating the interactive namespace from numpy and matplotlib\n"
       ]
      }
     ],
     "prompt_number": 3
    },
    {
     "cell_type": "code",
     "collapsed": false,
     "input": [
      "fs, sig = wavfile.read('voice.wav')\n",
      "a=(fft(sig)/len(sig))\n",
      "b=fftfreq(len(a),1)\n",
      "frecuencia=fftshift(b)\n",
      "fourier_sig=fftshift(a)\n",
      "mitad=ceil(len(a)/2)"
     ],
     "language": "python",
     "metadata": {},
     "outputs": [
      {
       "output_type": "stream",
       "stream": "stderr",
       "text": [
        "/Users/juandiegoarango/anaconda/lib/python2.7/site-packages/scipy/io/wavfile.py:42: WavFileWarning: Unknown wave file format\n",
        "  warnings.warn(\"Unknown wave file format\", WavFileWarning)\n"
       ]
      }
     ],
     "prompt_number": 4
    },
    {
     "cell_type": "code",
     "collapsed": false,
     "input": [
      "plot(sig)\n",
      "plot(voz_blanca)\n"
     ],
     "language": "python",
     "metadata": {},
     "outputs": [
      {
       "metadata": {},
       "output_type": "pyout",
       "prompt_number": 306,
       "text": [
        "[<matplotlib.lines.Line2D at 0x17f8a0490>]"
       ]
      },
      {
       "metadata": {},
       "output_type": "display_data",
       "png": "[encoded data removed]",
       "text": [
        "<matplotlib.figure.Figure at 0x17f8a0610>"
       ]
      }
     ],
     "prompt_number": 306
    },
    {
     "cell_type": "code",
     "collapsed": false,
     "input": [
      "ruido_blanco=fourier_sig/abs(fourier_sig)\n",
      "voz_blanca=10*ifft(ruido_blanco)\n",
      "wavfile.write('voz_blanca.wav', 44100, real(voz_blanca))"
     ],
     "language": "python",
     "metadata": {},
     "outputs": [],
     "prompt_number": 5
    },
    {
     "cell_type": "code",
     "collapsed": false,
     "input": [
      "plot(frecuencia[mitad:],log10(2.0*ruido_blanco[mitad:]**2))\n",
      "ylim(-1,1)"
     ],
     "language": "python",
     "metadata": {},
     "outputs": [
      {
       "metadata": {},
       "output_type": "pyout",
       "prompt_number": 84,
       "text": [
        "(-1, 1)"
       ]
      },
      {
       "metadata": {},
       "output_type": "display_data",
       "png": "[encoded data removed]",
       "text": [
        "<matplotlib.figure.Figure at 0x104931b50>"
       ]
      }
     ],
     "prompt_number": 84
    },
    {
     "cell_type": "code",
     "collapsed": false,
     "input": [
      "ruido_rosa=ruido_blanco*(1.0000001**(abs(100*amax(frecuencia)/frecuencia)))\n",
      "ruido_rosa[88200]=0\n",
      "voz_rosa=10*ifft(ruido_rosa)\n",
      "wavfile.write('voz_rosa.wav', 44100, real(voz_rosa))\n"
     ],
     "language": "python",
     "metadata": {},
     "outputs": [],
     "prompt_number": 305
    },
    {
     "cell_type": "code",
     "collapsed": false,
     "input": [
      "plot(frecuencia[mitad:],log10(abs(2.0*ruido_rosa[mitad:])**2))\n",
      "xlim(0,0.001)"
     ],
     "language": "python",
     "metadata": {},
     "outputs": [
      {
       "metadata": {},
       "output_type": "pyout",
       "prompt_number": 310,
       "text": [
        "(0, 0.001)"
       ]
      },
      {
       "metadata": {},
       "output_type": "display_data",
       "png": "[encoded data removed]",
       "text": [
        "<matplotlib.figure.Figure at 0x192ef6250>"
       ]
      }
     ],
     "prompt_number": 310
    },
    {
     "cell_type": "code",
     "collapsed": false,
     "input": [
      "plot(sig)\n",
      "plot(voz_rosa)\n"
     ],
     "language": "python",
     "metadata": {},
     "outputs": [
      {
       "metadata": {},
       "output_type": "pyout",
       "prompt_number": 301,
       "text": [
        "[<matplotlib.lines.Line2D at 0x17f198ed0>]"
       ]
      },
      {
       "metadata": {},
       "output_type": "display_data",
       "text": [
        "<matplotlib.figure.Figure at 0x17f198550>"
       ]
      }
     ],
     "prompt_number": 301
    },
    {
     "cell_type": "code",
     "collapsed": false,
     "input": [
      "\n"
     ],
     "language": "python",
     "metadata": {},
     "outputs": [],
     "prompt_number": 296
    },
    {
     "cell_type": "code",
     "collapsed": false,
     "input": [],
     "language": "python",
     "metadata": {},
     "outputs": []
    },
    {
     "cell_type": "code",
     "collapsed": false,
     "input": [],
     "language": "python",
     "metadata": {},
     "outputs": []
    }
   ],
   "metadata": {}
  }
 ]
}